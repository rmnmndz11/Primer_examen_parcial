{
  "cells": [
    {
      "cell_type": "code",
      "execution_count": null,
      "id": "191b1e9b",
      "metadata": {
        "id": "191b1e9b"
      },
      "outputs": [],
      "source": [
        "import numpy as np\n",
        "import random\n",
        "import matplotlib.pyplot as plt"
      ]
    },
    {
      "cell_type": "code",
      "execution_count": null,
      "id": "e966dcb8",
      "metadata": {
        "id": "e966dcb8",
        "colab": {
          "base_uri": "https://localhost:8080/",
          "height": 149
        },
        "outputId": "c2a45d2b-0bdf-4452-f122-c8a7492bac57"
      },
      "outputs": [
        {
          "output_type": "error",
          "ename": "SyntaxError",
          "evalue": "ignored",
          "traceback": [
            "\u001b[0;36m  File \u001b[0;32m\"<ipython-input-3-8cd6fe6e1ed1>\"\u001b[0;36m, line \u001b[0;32m1\u001b[0m\n\u001b[0;31m    Periódicos \"30  40  50  60  70\"\u001b[0m\n\u001b[0m               ^\u001b[0m\n\u001b[0;31mSyntaxError\u001b[0m\u001b[0;31m:\u001b[0m invalid syntax\n"
          ]
        }
      ],
      "source": [
        "Periódicos 30  40  50  60  70\n",
        "f(x)       20% 25% 25% 20% 10%"
      ]
    },
    {
      "cell_type": "code",
      "execution_count": null,
      "id": "74144758",
      "metadata": {
        "id": "74144758",
        "colab": {
          "base_uri": "https://localhost:8080/",
          "height": 149
        },
        "outputId": "29aa8dff-82ce-41f2-f8c3-39c07af05bb8"
      },
      "outputs": [
        {
          "output_type": "error",
          "ename": "SyntaxError",
          "evalue": "ignored",
          "traceback": [
            "\u001b[0;36m  File \u001b[0;32m\"<ipython-input-4-ff5c132ad3a9>\"\u001b[0;36m, line \u001b[0;32m1\u001b[0m\n\u001b[0;31m    Periódicos 30  40  50  60  70\u001b[0m\n\u001b[0m               ^\u001b[0m\n\u001b[0;31mSyntaxError\u001b[0m\u001b[0;31m:\u001b[0m invalid syntax\n"
          ]
        }
      ],
      "source": [
        "Periódicos 30  40  50  60  70\n",
        "f(x)       20% 25% 25% 20% 10%F(x)       0.2 0.45 0.7 0.9 1"
      ]
    },
    {
      "cell_type": "code",
      "execution_count": null,
      "id": "25fbe36d",
      "metadata": {
        "id": "25fbe36d"
      },
      "outputs": [],
      "source": [
        "def ventas_sim():\n",
        "    ventas=0\n",
        "    u = random.random()\n",
        "    if 0.0 <= u < 0.20:\n",
        "        ventas = 30\n",
        "    elif 0.20 <= u < 0.45:\n",
        "        ventas = 40\n",
        "    elif 0.45 <= u < 0.70:\n",
        "        ventas = 50\n",
        "    elif 0.70 <= u < 0.90:\n",
        "        ventas = 60\n",
        "    elif 0.90 <= u <= 1.00:\n",
        "        ventas = 70\n",
        "    return ventas"
      ]
    },
    {
      "cell_type": "code",
      "execution_count": null,
      "id": "955e0989",
      "metadata": {
        "id": "955e0989"
      },
      "outputs": [],
      "source": [
        "def beneficio(pedido):\n",
        "    ben = 0\n",
        "    ventas_reales = 0\n",
        "    ventas_perdidas = 0\n",
        "    no_vendidos = 0\n",
        "    vs = ventas_sim()\n",
        "    \n",
        "    if vs > pedido:\n",
        "        ventas_reales = pedido\n",
        "        ventas_perdidas = vs - pedido\n",
        "        no_vendidos = 0\n",
        "        \n",
        "    else:\n",
        "        ventas_reales = vs\n",
        "        ventas_perdidas = 0\n",
        "        no_vendidos = pedido - ventas_reales\n",
        "    \n",
        "    ben = 1.10*ventas_reales - 0.90*pedido - 0.10*no_vendidos - 0.20*ventas_perdidas\n",
        "    return ben"
      ]
    },
    {
      "cell_type": "code",
      "execution_count": null,
      "id": "34b4243f",
      "metadata": {
        "id": "34b4243f",
        "outputId": "3f506182-37cf-44c7-ae98-5bc37e8dcfef",
        "colab": {
          "base_uri": "https://localhost:8080/"
        }
      },
      "outputs": [
        {
          "output_type": "execute_result",
          "data": {
            "text/plain": [
              "-14.0"
            ]
          },
          "metadata": {},
          "execution_count": 7
        }
      ],
      "source": [
        "beneficio(50)"
      ]
    },
    {
      "cell_type": "code",
      "execution_count": null,
      "id": "5594aeea",
      "metadata": {
        "id": "5594aeea"
      },
      "outputs": [],
      "source": [
        "def simulacion(n):\n",
        "    L=[]\n",
        "    benef = 0\n",
        "    for i in range(n):\n",
        "        benef += beneficio(50)\n",
        "        L.append(benef/(i+1))\n",
        "    return L"
      ]
    },
    {
      "cell_type": "code",
      "execution_count": null,
      "id": "9e8db4c9",
      "metadata": {
        "id": "9e8db4c9"
      },
      "outputs": [],
      "source": [
        "X=simulacion(500)"
      ]
    },
    {
      "cell_type": "code",
      "execution_count": null,
      "id": "af40deda",
      "metadata": {
        "id": "af40deda",
        "outputId": "647842f4-4fae-4b44-8a24-2e4688eb0b9f",
        "colab": {
          "base_uri": "https://localhost:8080/",
          "height": 297
        }
      },
      "outputs": [
        {
          "output_type": "execute_result",
          "data": {
            "text/plain": [
              "[<matplotlib.lines.Line2D at 0x7fd7f1ffef50>]"
            ]
          },
          "metadata": {},
          "execution_count": 10
        },
        {
          "output_type": "display_data",
          "data": {
            "text/plain": [
              "<Figure size 640x480 with 1 Axes>"
            ],
            "image/png": "[encoded data removed]"
          },
          "metadata": {}
        }
      ],
      "source": [
        "plt.plot(X)"
      ]
    },
    {
      "cell_type": "code",
      "execution_count": null,
      "id": "8cd260f2",
      "metadata": {
        "id": "8cd260f2",
        "outputId": "35e2d8ac-2cb4-4d2f-9d17-026f070d00a9",
        "colab": {
          "base_uri": "https://localhost:8080/"
        }
      },
      "outputs": [
        {
          "output_type": "execute_result",
          "data": {
            "text/plain": [
              "1.4395066356246584"
            ]
          },
          "metadata": {},
          "execution_count": 11
        }
      ],
      "source": [
        "np.mean(X)"
      ]
    },
    {
      "cell_type": "code",
      "execution_count": null,
      "id": "1fd595fe",
      "metadata": {
        "id": "1fd595fe"
      },
      "outputs": [],
      "source": [
        "def modelo(n):\n",
        "    lista=[]\n",
        "    for i in range(n):\n",
        "        s = simulacion(500)\n",
        "        lista.append(np.mean(s))\n",
        "    return lista"
      ]
    },
    {
      "cell_type": "code",
      "execution_count": null,
      "id": "545016ae",
      "metadata": {
        "id": "545016ae"
      },
      "outputs": [],
      "source": [
        "Y=modelo(40)"
      ]
    },
    {
      "cell_type": "code",
      "execution_count": null,
      "id": "bd58f8d8",
      "metadata": {
        "id": "bd58f8d8",
        "outputId": "efd91d1b-343b-4489-81c5-b8edf8c4216d",
        "colab": {
          "base_uri": "https://localhost:8080/"
        }
      },
      "outputs": [
        {
          "output_type": "stream",
          "name": "stdout",
          "text": [
            "1.572715608503247 0.5283329604538649\n"
          ]
        }
      ],
      "source": [
        "print(np.mean(Y), np.std(Y))"
      ]
    },
    {
      "cell_type": "code",
      "execution_count": null,
      "id": "25176c75",
      "metadata": {
        "id": "25176c75",
        "outputId": "a0d541ca-20d1-4b48-942b-4d87f826a225",
        "colab": {
          "base_uri": "https://localhost:8080/",
          "height": 450
        }
      },
      "outputs": [
        {
          "output_type": "display_data",
          "data": {
            "text/plain": [
              "<Figure size 640x480 with 1 Axes>"
            ],
            "image/png": "[encoded data removed]"
          },
          "metadata": {}
        }
      ],
      "source": [
        "plt.hist(Y)\n",
        "plt.show()"
      ]
    },
    {
      "cell_type": "code",
      "execution_count": null,
      "id": "12370349",
      "metadata": {
        "id": "12370349",
        "colab": {
          "base_uri": "https://localhost:8080/"
        },
        "outputId": "1150bce0-faef-42e0-e02c-5f29592f837a"
      },
      "outputs": [
        {
          "output_type": "stream",
          "name": "stdout",
          "text": [
            "El intervalo de confianza es:  1.486210553553284 ≤ m ≤ 1.65922066345321\n"
          ]
        }
      ],
      "source": [
        "print(\"El intervalo de confianza es: \",\n",
        "np.mean(Y)-(1.96)*((np.var(Y))/np.sqrt(40)), \"≤ m ≤\",\n",
        "np.mean(Y)+(1.96)*((np.var(Y))/np.sqrt(40)))"
      ]
    },
    {
      "cell_type": "code",
      "execution_count": null,
      "id": "9c0d54c0",
      "metadata": {
        "id": "9c0d54c0"
      },
      "outputs": [],
      "source": []
    }
  ],
  "metadata": {
    "kernelspec": {
      "display_name": "Python 3 (ipykernel)",
      "language": "python",
      "name": "python3"
    },
    "language_info": {
      "codemirror_mode": {
        "name": "ipython",
        "version": 3
      },
      "file_extension": ".py",
      "mimetype": "text/x-python",
      "name": "python",
      "nbconvert_exporter": "python",
      "pygments_lexer": "ipython3",
      "version": "3.7.3"
    },
    "colab": {
      "provenance": []
    }
  },
  "nbformat": 4,
  "nbformat_minor": 5
}