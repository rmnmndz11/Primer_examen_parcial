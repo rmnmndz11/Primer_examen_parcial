{
  "nbformat": 4,
  "nbformat_minor": 0,
  "metadata": {
    "colab": {
      "provenance": [],
      "authorship_tag": "ABX9TyNDxOR/phekpE9vo+YJ5WmB",
      "include_colab_link": true
    },
    "kernelspec": {
      "name": "python3",
      "display_name": "Python 3"
    },
    "language_info": {
      "name": "python"
    }
  },
  "cells": [
    {
      "cell_type": "markdown",
      "metadata": {
        "id": "view-in-github",
        "colab_type": "text"
      },
      "source": [
        "<a href=\"https://colab.research.google.com/github/rmnmndz11/Primer_examen_parcial/blob/main/Ejercicio_4.ipynb\" target=\"_parent\"><img src=\"https://colab.research.google.com/assets/colab-badge.svg\" alt=\"Open In Colab\"/></a>"
      ]
    },
    {
      "cell_type": "markdown",
      "source": [
        "# Ejercicio 4"
      ],
      "metadata": {
        "id": "1gnmBevDQt6K"
      }
    },
    {
      "cell_type": "markdown",
      "source": [
        "Analiticamente:"
      ],
      "metadata": {
        "id": "qf_0mfPOQvq3"
      }
    },
    {
      "cell_type": "markdown",
      "source": [
        "Dado que ξi son variables aleatorias independientes con distribución de Poisson con media igual a 1/2, podemos considerar cada ξi como una variable aleatoria de Poisson con parámetro λ = 1/2.\n",
        "\n",
        "La suma de estas variables aleatorias, S = ξ1 + ξ2 + ξ3 + ξ4, sigue una distribución de Poisson con parámetro igual a la suma de los parámetros de las variables individuales. En este caso, el parámetro sería λ = 4 * (1/2) = 2.\n",
        "\n",
        "La variable aleatoria τ = S/4 es simplemente la media de S. Dado que S sigue una distribución de Poisson con parámetro 2, la variable τ sigue una distribución de Poisson con parámetro 2/4 = 1/2.\n",
        "\n",
        "Ahora, queremos calcular P(τ ≤ 1), es decir, la probabilidad de que τ sea menor o igual a 1. Usando la función de masa de probabilidad (PMF) de la distribución de Poisson, podemos calcularlo de la siguiente manera:\n",
        "\n",
        "P(τ ≤ 1) = P(τ = 0) + P(τ = 1)\n",
        "\n",
        "La PMF de la distribución de Poisson con parámetro λ es:\n",
        "\n",
        "P(X = k) = (e^(-λ) * λ^k) / k!\n",
        "\n",
        "Aplicando esto a nuestro caso, obtenemos:\n",
        "\n",
        "P(τ = 0) = (e^(-1/2) * (1/2)^0) / 0! = e^(-1/2)\n",
        "\n",
        "P(τ = 1) = (e^(-1/2) * (1/2)^1) / 1! = (e^(-1/2) * 1/2)\n",
        "\n",
        "Por lo tanto, P(τ ≤ 1) = e^(-1/2) + (e^(-1/2) * 1/2).\n",
        "\n",
        "Finalmente, podemos calcular el resultado numéricamente:\n",
        "\n",
        "P(τ ≤ 1) ≈ 0.909\n",
        "\n",
        "Entonces, la probabilidad de que τ sea menor o igual a 1 es aproximadamente 0.909."
      ],
      "metadata": {
        "id": "Kpj0axaNSOwy"
      }
    },
    {
      "cell_type": "markdown",
      "source": [
        "Simulación:"
      ],
      "metadata": {
        "id": "IyolvmEAQv42"
      }
    },
    {
      "cell_type": "markdown",
      "source": [
        "**PASO 1** Defina las variables que intervienen en el modelo."
      ],
      "metadata": {
        "id": "y1KrogR3PEn3"
      }
    },
    {
      "cell_type": "markdown",
      "source": [
        "$\\xi_1,\\xi_2,\\xi_3$ y $\\xi_4$"
      ],
      "metadata": {
        "id": "j3l8W_3qPUJ9"
      }
    },
    {
      "cell_type": "markdown",
      "source": [
        "**PASOS 2 y 3** Determine la distribución de probabilidad y modele las variables aleatorias"
      ],
      "metadata": {
        "id": "0BqsfSezPZiN"
      }
    },
    {
      "cell_type": "markdown",
      "source": [
        "$\\xi_1$=Variable aleatoria de Poisson con media 1/2.  \n",
        "$\\xi_2$=Variable aleatoria de Poisson con media 1/2.  \n",
        "$\\xi_3$=Variable aleatoria de Poisson con media 1/2.  \n",
        "$\\xi_4$=Variable aleatoria de Poisson con media 1/2."
      ],
      "metadata": {
        "id": "fXIHbSNJPiek"
      }
    },
    {
      "cell_type": "markdown",
      "source": [
        "**PASO 4** Defina el modelo del sistema y los objetivos de la simulación"
      ],
      "metadata": {
        "id": "MGU_MGqIPi6d"
      }
    },
    {
      "cell_type": "markdown",
      "source": [
        "El sistema se compone de cuatro variables aleatorias independientes,$\\xi_1,\\xi_2,\\xi_3$ y $\\xi_4$, cada una con una distribución de Poisson con media igual a 1/2. Se define la variable τ como la media de estas cuatro variables, es decir, $τ=\\frac{\\xi_1+\\xi_2+\\xi_3+\\xi_4}{4}$.\n",
        "El objetivo de la simulación es estimar la probabilidad de que τ sea menor o igual a 1, es decir, P(τ ≤ 1). Para ello, se realizarán simulaciones donde se generarán valores aleatorios para ξ1, ξ2, ξ3 y ξ4, se calculará la variable τ correspondiente a cada simulación y se contabilizará el número de simulaciones en las que τ es menor o igual a 1. A partir de la proporción de simulaciones exitosas, se obtendrá una estimación de la probabilidad P(τ ≤ 1). La simulación permite obtener una aproximación numérica de la probabilidad deseada basada en los datos generados aleatoriamente."
      ],
      "metadata": {
        "id": "oyWwtLgEPjJS"
      }
    },
    {
      "cell_type": "markdown",
      "source": [
        "**PASO 5** Diseñe el experimento"
      ],
      "metadata": {
        "id": "Mm7P46X8Pq6i"
      }
    },
    {
      "cell_type": "code",
      "execution_count": null,
      "metadata": {
        "id": "CdGvZoo8ABB-"
      },
      "outputs": [],
      "source": [
        "import numpy as np\n",
        "import random #Librería para generar número aleatoríos\n",
        "import matplotlib.pyplot as plt #Librería para gráficar"
      ]
    },
    {
      "cell_type": "code",
      "source": [
        "def valor_tau():\n",
        "  suma=0\n",
        "  e=np.random.poisson(0.5, 4)\n",
        "  suma=np.sum(e)\n",
        "  tau=suma/4\n",
        "  return tau"
      ],
      "metadata": {
        "id": "it-1sQYdHlZ6"
      },
      "execution_count": null,
      "outputs": []
    },
    {
      "cell_type": "code",
      "source": [
        "def probabilidad(n):\n",
        "  c=0\n",
        "  p=[]\n",
        "  for i in range(n):\n",
        "    if valor_tau()<=1:\n",
        "      c+=1\n",
        "      p.append(c/(i+1))\n",
        "  return p "
      ],
      "metadata": {
        "id": "-M_xrEF8JQ8O"
      },
      "execution_count": null,
      "outputs": []
    },
    {
      "cell_type": "code",
      "source": [
        "x=probabilidad(50)"
      ],
      "metadata": {
        "id": "eHr34YX2KK1Z"
      },
      "execution_count": null,
      "outputs": []
    },
    {
      "cell_type": "code",
      "source": [
        "plt.plot(x) #Se grafica el costo promedio"
      ],
      "metadata": {
        "id": "_1WOCpKFKPUH"
      },
      "execution_count": null,
      "outputs": []
    },
    {
      "cell_type": "code",
      "source": [
        "np.mean(x) #Se obtiene la media"
      ],
      "metadata": {
        "colab": {
          "base_uri": "https://localhost:8080/"
        },
        "id": "HVKjz3g8N5HW",
        "outputId": "97b4d6c9-708f-47fd-a2d9-c1ca2d967299"
      },
      "execution_count": null,
      "outputs": [
        {
          "output_type": "execute_result",
          "data": {
            "text/plain": [
              "0.9442572785486245"
            ]
          },
          "metadata": {},
          "execution_count": 73
        }
      ]
    },
    {
      "cell_type": "markdown",
      "source": [
        "**PASO 6** Repita el experimento n veces"
      ],
      "metadata": {
        "id": "NFNT6KBlPrMb"
      }
    },
    {
      "cell_type": "code",
      "source": [
        "def modelo(n):\n",
        "    lista=[]\n",
        "    for i in range(n):\n",
        "        s = probabilidad(500)\n",
        "        lista.append(np.mean(s))\n",
        "    return lista"
      ],
      "metadata": {
        "id": "3Mo4OlGAN9BM"
      },
      "execution_count": null,
      "outputs": []
    },
    {
      "cell_type": "code",
      "source": [
        "Y=modelo(40) #Hacemos el modelos más veces"
      ],
      "metadata": {
        "id": "n7fRcSYqN_Ym"
      },
      "execution_count": null,
      "outputs": []
    },
    {
      "cell_type": "code",
      "source": [
        "print(np.mean(Y), np.std(Y))"
      ],
      "metadata": {
        "colab": {
          "base_uri": "https://localhost:8080/"
        },
        "id": "dTWoO8jnOBaV",
        "outputId": "2cbb88f4-99ef-41ef-d850-021a07cacf12"
      },
      "execution_count": null,
      "outputs": [
        {
          "output_type": "stream",
          "name": "stdout",
          "text": [
            "0.9490944857533602 0.013360701679088647\n"
          ]
        }
      ]
    },
    {
      "cell_type": "code",
      "source": [
        "plt.hist(Y) \n",
        "plt.show()"
      ],
      "metadata": {
        "colab": {
          "base_uri": "https://localhost:8080/",
          "height": 430
        },
        "id": "EKligVlJODOo",
        "outputId": "13d68290-56b7-4a0f-fea2-728968263433"
      },
      "execution_count": null,
      "outputs": [
        {
          "output_type": "display_data",
          "data": {
            "text/plain": [
              "<Figure size 640x480 with 1 Axes>"
            ],
            "image/png": "[encoded data removed]"
          },
          "metadata": {}
        }
      ]
    },
    {
      "cell_type": "markdown",
      "source": [
        "**Paso 7** Hallamos el intervalo de confianza."
      ],
      "metadata": {
        "id": "2PTHSZsrPrZ7"
      }
    },
    {
      "cell_type": "code",
      "source": [
        "print(\"El intervalo de confianza es: \",\n",
        "np.mean(Y)-(1.96)*((np.var(Y))/np.sqrt(40)), \"≤ m ≤\",\n",
        "np.mean(Y)+(1.96)*((np.var(Y))/np.sqrt(40)))"
      ],
      "metadata": {
        "colab": {
          "base_uri": "https://localhost:8080/"
        },
        "id": "qfH6ksfpOFPF",
        "outputId": "9028118c-0c41-44c5-ab33-f807172e6b15"
      },
      "execution_count": null,
      "outputs": [
        {
          "output_type": "stream",
          "name": "stdout",
          "text": [
            "El intervalo de confianza es:  0.9490391654427581 ≤ m ≤ 0.9491498060639623\n"
          ]
        }
      ]
    }
  ]
}