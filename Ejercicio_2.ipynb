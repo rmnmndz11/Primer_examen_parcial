{
  "cells": [
    {
      "cell_type": "markdown",
      "metadata": {
        "id": "view-in-github",
        "colab_type": "text"
      },
      "source": [
        "<a href=\"https://colab.research.google.com/github/rmnmndz11/Primer_examen_parcial/blob/main/Ejercicio_2.ipynb\" target=\"_parent\"><img src=\"https://colab.research.google.com/assets/colab-badge.svg\" alt=\"Open In Colab\"/></a>"
      ]
    },
    {
      "cell_type": "markdown",
      "source": [
        "# Ejercicio 2"
      ],
      "metadata": {
        "id": "0wDQ7AzNTjS9"
      },
      "id": "0wDQ7AzNTjS9"
    },
    {
      "cell_type": "markdown",
      "source": [
        "Analiticamente:"
      ],
      "metadata": {
        "id": "HU7r-I5rTmyq"
      },
      "id": "HU7r-I5rTmyq"
    },
    {
      "cell_type": "markdown",
      "source": [
        "Para determinar el beneficio promedio diario, necesitamos calcular los ingresos y los costos asociados con cada nivel de ventas y luego promediarlos.\n",
        "\n",
        "En primer lugar, calculemos los ingresos por cada nivel de ventas:\n",
        "\n",
        "Ingresos = Precio de venta * Cantidad de periódicos vendidos\n",
        "\n",
        "El precio de venta es de 1.10 euros por periódico.\n",
        "\n",
        "Ahora calculemos los costos asociados con cada nivel de ventas:\n",
        "\n",
        "Costos = (Costo por periódico * Cantidad de periódicos vendidos) + (Costo por venta perdida * Cantidad de periódicos no vendidos) + (Costo por reciclaje * Cantidad de periódicos no vendidos)\n",
        "\n",
        "El costo por periódico es de 0.90 euros.\n",
        "El costo por venta perdida es de 0.20 euros.\n",
        "El costo por reciclaje es de 0.10 euros.\n",
        "\n",
        "A continuación, calculemos el beneficio para cada nivel de ventas:\n",
        "\n",
        "Beneficio = Ingresos - Costos\n",
        "\n",
        "Ahora, multipliquemos el beneficio por el porcentaje de tiempo correspondiente a cada nivel de ventas para obtener el beneficio ponderado:\n",
        "\n",
        "Beneficio ponderado = Beneficio * Porcentaje de tiempo\n",
        "\n",
        "Finalmente, calculemos el beneficio promedio diario sumando todos los beneficios ponderados:\n",
        "\n",
        "Beneficio promedio diario = Suma de beneficios ponderados\n",
        "\n",
        "Veamos los cálculos paso a paso para cada nivel de ventas:\n",
        "\n",
        "1. Para 30 periódicos:\n",
        "Ingresos = 1.10 * 30 = 33 euros\n",
        "Costos = (0.90 * 30) + (0.20 * 20) + (0.10 * 20) = 27 + 4 + 2 = 33 euros\n",
        "Beneficio = Ingresos - Costos = 33 - 33 = 0 euros\n",
        "Beneficio ponderado = 0 * 0.20 = 0 euros\n",
        "\n",
        "2. Para 40 periódicos:\n",
        "Ingresos = 1.10 * 40 = 44 euros\n",
        "Costos = (0.90 * 40) + (0.20 * 10) + (0.10 * 10) = 36 + 2 + 1 = 39 euros\n",
        "Beneficio = Ingresos - Costos = 44 - 39 = 5 euros\n",
        "Beneficio ponderado = 5 * 0.25 = 1.25 euros\n",
        "\n",
        "3. Para 50 periódicos:\n",
        "Ingresos = 1.10 * 50 = 55 euros\n",
        "Costos = (0.90 * 50) + (0.20 * 0) + (0.10 * 0) = 45 + 0 + 0 = 45 euros\n",
        "Beneficio = Ingresos - Costos = 55 - 45 = 10 euros\n",
        "Beneficio ponderado = 10 * 0.25 = 2.5 euros\n",
        "\n",
        "4. Para 60 periódicos:\n",
        "Ingresos = 1.10 * 60 = 66 euros\n",
        "Costos = (0.90 * 60) + (0.20 * 0) + (0.10 * 0) = 54 + 0 + 0 = 54 euros\n",
        "Beneficio = Ingresos - Costos = 66 - 54 = 12 euros\n",
        "Beneficio ponderado = 12 * 0.20 = 2.4 euros\n",
        "\n",
        "5. Para 70 periódicos:\n",
        "Ingresos = 1.10 * 70 = 77 euros\n",
        "Costos = (0.90 * 70) + (0.20 * 0) + (0.10 * 0) = 63 + 0 + 0 = 63 euros\n",
        "Beneficio = Ingresos - Costos = 77 - 63 = 14 euros\n",
        "Beneficio ponderado = 14 * 0.10 = 1.4 euros\n",
        "Ahora, calculemos el beneficio promedio diario sumando todos los beneficios ponderados:\n",
        "\n",
        "Beneficio promedio diario = Suma de beneficios ponderados\n",
        "= 0 euros (para 30 periódicos) + 1.25 euros (para 40 periódicos) + 2.5 euros (para 50 periódicos) + 2.4 euros (para 60 periódicos) + 1.4 euros (para 70 periódicos)\n",
        "= 7.55 euros\n",
        "\n",
        "Por lo tanto, el beneficio promedio diario para el quiosquero si pide 50 periódicos cada día es de 7.55 euros."
      ],
      "metadata": {
        "id": "KEIFo9o6Tpzj"
      },
      "id": "KEIFo9o6Tpzj"
    },
    {
      "cell_type": "markdown",
      "source": [
        "Simulación:"
      ],
      "metadata": {
        "id": "P3OTUav0TqD4"
      },
      "id": "P3OTUav0TqD4"
    },
    {
      "cell_type": "markdown",
      "source": [
        "**PASO 1** Defina las variables que intervienen en el modelo."
      ],
      "metadata": {
        "id": "cQ4jnmDgTqMH"
      },
      "id": "cQ4jnmDgTqMH"
    },
    {
      "cell_type": "markdown",
      "source": [
        "Periódicos vendidos"
      ],
      "metadata": {
        "id": "VuKhVe1iTqWe"
      },
      "id": "VuKhVe1iTqWe"
    },
    {
      "cell_type": "markdown",
      "source": [
        "**PASO 2** Formule la distribución de probabilidad de cada variable"
      ],
      "metadata": {
        "id": "xoJG0PCFTqeG"
      },
      "id": "xoJG0PCFTqeG"
    },
    {
      "cell_type": "markdown",
      "source": [
        "|**PERIÓDICOS**|**30**|**40**|**50**|**60**|**70**|  \n",
        "|----------|--|--|--|--|--|\n",
        "|**f(x)**|20%|25%|25%|20%|10%|"
      ],
      "metadata": {
        "id": "tBbZAzS2T7Ew"
      },
      "id": "tBbZAzS2T7Ew"
    },
    {
      "cell_type": "markdown",
      "source": [
        "**PASO 3** Enumere la distribución acumulada de probabilidad de cada variable."
      ],
      "metadata": {
        "id": "NNR4DCc7T7Q9"
      },
      "id": "NNR4DCc7T7Q9"
    },
    {
      "cell_type": "markdown",
      "source": [
        "|PERIÓDICOS|30|40|50|60|70|  \n",
        "|----------|--|--|--|--|--|\n",
        "|**f(x)**|20%|25%|25%|20%|10%|  \n",
        "|**F(x)**|0.20|0.45|0.70|0.90|1.00|"
      ],
      "metadata": {
        "id": "t_d2UD7_T7Yj"
      },
      "id": "t_d2UD7_T7Yj"
    },
    {
      "cell_type": "markdown",
      "source": [
        "**PASO 4** Establezca el intervalo de números aleatorios correspondiente a cada valor de cada una de las variables."
      ],
      "metadata": {
        "id": "ylOsjhp-T7kE"
      },
      "id": "ylOsjhp-T7kE"
    },
    {
      "cell_type": "markdown",
      "source": [
        "|PERIÓDICOS|30|40|50|60|70|  \n",
        "|----------|--|--|--|--|--|\n",
        "|**f(x)**|20%|25%|25%|20%|10%|  \n",
        "|**F(x)**|0.20|0.45|0.70|0.90|1.00|  \n",
        "|**INTERVALO**|0 a 0.19|0.2 a 0.44|0.45 a 0.69|0.7 a 0.89|0.9 a 1|"
      ],
      "metadata": {
        "id": "AfgCgkh6T7tE"
      },
      "id": "AfgCgkh6T7tE"
    },
    {
      "cell_type": "code",
      "execution_count": null,
      "id": "191b1e9b",
      "metadata": {
        "id": "191b1e9b"
      },
      "outputs": [],
      "source": [
        "import numpy as np\n",
        "import random #Librería para generar número aleatoríos\n",
        "import matplotlib.pyplot as plt #Librería para gráficar"
      ]
    },
    {
      "cell_type": "markdown",
      "source": [
        "**PASO 5** Genere números aleatorios."
      ],
      "metadata": {
        "id": "71gTIy1uUJXW"
      },
      "id": "71gTIy1uUJXW"
    },
    {
      "cell_type": "code",
      "execution_count": null,
      "id": "25fbe36d",
      "metadata": {
        "id": "25fbe36d"
      },
      "outputs": [],
      "source": [
        "def ventas_sim(): #En esta función vamos a obtener el número de horas entre averias dependiendo el número aleatorio que se obtenga\n",
        "    ventas=0\n",
        "    u = random.random() \n",
        "    if 0.0 <= u < 0.20:\n",
        "        ventas = 30\n",
        "    elif 0.20 <= u < 0.45:\n",
        "        ventas = 40\n",
        "    elif 0.45 <= u < 0.70:\n",
        "        ventas = 50\n",
        "    elif 0.70 <= u < 0.90:\n",
        "        ventas = 60\n",
        "    elif 0.90 <= u <= 1.00:\n",
        "        ventas = 70\n",
        "    return ventas "
      ]
    },
    {
      "cell_type": "markdown",
      "source": [
        "**PASO 6** Diseñe el experimento"
      ],
      "metadata": {
        "id": "M4p69RpqUJiC"
      },
      "id": "M4p69RpqUJiC"
    },
    {
      "cell_type": "code",
      "execution_count": null,
      "id": "955e0989",
      "metadata": {
        "id": "955e0989"
      },
      "outputs": [],
      "source": [
        "def beneficio(pedido):\n",
        "    ben = 0 #Inicializamos las variables que vamos a ocupar\n",
        "    ventas_reales = 0\n",
        "    ventas_perdidas = 0\n",
        "    no_vendidos = 0\n",
        "    vs = ventas_sim()\n",
        "    \n",
        "    if vs > pedido: #Agregamos las condiciones para los pedidos\n",
        "        ventas_reales = pedido\n",
        "        ventas_perdidas = vs - pedido\n",
        "        no_vendidos = 0\n",
        "        \n",
        "    else: \n",
        "        ventas_reales = vs\n",
        "        ventas_perdidas = 0\n",
        "        no_vendidos = pedido - ventas_reales\n",
        "    \n",
        "    ben = 1.10*ventas_reales - 0.90*pedido - 0.10*no_vendidos - 0.20*ventas_perdidas\n",
        "    return ben"
      ]
    },
    {
      "cell_type": "code",
      "execution_count": null,
      "id": "34b4243f",
      "metadata": {
        "id": "34b4243f",
        "outputId": "3f506182-37cf-44c7-ae98-5bc37e8dcfef",
        "colab": {
          "base_uri": "https://localhost:8080/"
        }
      },
      "outputs": [
        {
          "output_type": "execute_result",
          "data": {
            "text/plain": [
              "-14.0"
            ]
          },
          "metadata": {},
          "execution_count": 7
        }
      ],
      "source": [
        "beneficio(50)"
      ]
    },
    {
      "cell_type": "code",
      "execution_count": null,
      "id": "5594aeea",
      "metadata": {
        "id": "5594aeea"
      },
      "outputs": [],
      "source": [
        "def simulacion(n):\n",
        "    L=[]\n",
        "    benef = 0\n",
        "    for i in range(n):\n",
        "        benef += beneficio(50)\n",
        "        L.append(benef/(i+1))\n",
        "    return L"
      ]
    },
    {
      "cell_type": "code",
      "execution_count": null,
      "id": "9e8db4c9",
      "metadata": {
        "id": "9e8db4c9"
      },
      "outputs": [],
      "source": [
        "X=simulacion(500) "
      ]
    },
    {
      "cell_type": "code",
      "execution_count": null,
      "id": "af40deda",
      "metadata": {
        "id": "af40deda"
      },
      "outputs": [],
      "source": [
        "plt.plot(X) #Se grafica el costo promedio"
      ]
    },
    {
      "cell_type": "code",
      "execution_count": null,
      "id": "8cd260f2",
      "metadata": {
        "id": "8cd260f2",
        "outputId": "35e2d8ac-2cb4-4d2f-9d17-026f070d00a9",
        "colab": {
          "base_uri": "https://localhost:8080/"
        }
      },
      "outputs": [
        {
          "output_type": "execute_result",
          "data": {
            "text/plain": [
              "1.4395066356246584"
            ]
          },
          "metadata": {},
          "execution_count": 11
        }
      ],
      "source": [
        "np.mean(X) #Se obtiene la media"
      ]
    },
    {
      "cell_type": "markdown",
      "source": [
        "**PASO 7** Repita el experimento n veces"
      ],
      "metadata": {
        "id": "0vyNGDYuUJqN"
      },
      "id": "0vyNGDYuUJqN"
    },
    {
      "cell_type": "code",
      "execution_count": null,
      "id": "1fd595fe",
      "metadata": {
        "id": "1fd595fe"
      },
      "outputs": [],
      "source": [
        "def modelo(n):\n",
        "    lista=[]\n",
        "    for i in range(n):\n",
        "        s = simulacion(500)\n",
        "        lista.append(np.mean(s))\n",
        "    return lista"
      ]
    },
    {
      "cell_type": "code",
      "execution_count": null,
      "id": "545016ae",
      "metadata": {
        "id": "545016ae"
      },
      "outputs": [],
      "source": [
        "Y=modelo(40) #Hacemos el modelos más veces"
      ]
    },
    {
      "cell_type": "code",
      "execution_count": null,
      "id": "bd58f8d8",
      "metadata": {
        "id": "bd58f8d8"
      },
      "outputs": [],
      "source": [
        "print(np.mean(Y), np.std(Y))"
      ]
    },
    {
      "cell_type": "code",
      "execution_count": null,
      "id": "25176c75",
      "metadata": {
        "id": "25176c75"
      },
      "outputs": [],
      "source": [
        "plt.hist(Y) \n",
        "plt.show()"
      ]
    },
    {
      "cell_type": "markdown",
      "source": [
        "**Paso 8** Hallamos el intervalo de confianza."
      ],
      "metadata": {
        "id": "-pOewgmjUnbG"
      },
      "id": "-pOewgmjUnbG"
    },
    {
      "cell_type": "code",
      "execution_count": null,
      "id": "12370349",
      "metadata": {
        "id": "12370349",
        "colab": {
          "base_uri": "https://localhost:8080/"
        },
        "outputId": "1150bce0-faef-42e0-e02c-5f29592f837a"
      },
      "outputs": [
        {
          "output_type": "stream",
          "name": "stdout",
          "text": [
            "El intervalo de confianza es:  1.486210553553284 ≤ m ≤ 1.65922066345321\n"
          ]
        }
      ],
      "source": [
        "print(\"El intervalo de confianza es: \",\n",
        "np.mean(Y)-(1.96)*((np.var(Y))/np.sqrt(40)), \"≤ m ≤\",\n",
        "np.mean(Y)+(1.96)*((np.var(Y))/np.sqrt(40)))"
      ]
    }
  ],
  "metadata": {
    "kernelspec": {
      "display_name": "Python 3 (ipykernel)",
      "language": "python",
      "name": "python3"
    },
    "language_info": {
      "codemirror_mode": {
        "name": "ipython",
        "version": 3
      },
      "file_extension": ".py",
      "mimetype": "text/x-python",
      "name": "python",
      "nbconvert_exporter": "python",
      "pygments_lexer": "ipython3",
      "version": "3.7.3"
    },
    "colab": {
      "provenance": [],
      "include_colab_link": true
    }
  },
  "nbformat": 4,
  "nbformat_minor": 5
}