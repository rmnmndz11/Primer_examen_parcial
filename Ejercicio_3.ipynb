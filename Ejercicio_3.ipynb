{
  "nbformat": 4,
  "nbformat_minor": 0,
  "metadata": {
    "colab": {
      "provenance": [],
      "authorship_tag": "ABX9TyPqS+duNJoPAlh/JmtTLzbf",
      "include_colab_link": true
    },
    "kernelspec": {
      "name": "python3",
      "display_name": "Python 3"
    },
    "language_info": {
      "name": "python"
    }
  },
  "cells": [
    {
      "cell_type": "markdown",
      "metadata": {
        "id": "view-in-github",
        "colab_type": "text"
      },
      "source": [
        "<a href=\"https://colab.research.google.com/github/rmnmndz11/Primer_examen_parcial/blob/main/Ejercicio_3.ipynb\" target=\"_parent\"><img src=\"https://colab.research.google.com/assets/colab-badge.svg\" alt=\"Open In Colab\"/></a>"
      ]
    },
    {
      "cell_type": "markdown",
      "source": [
        "# Ejercicio 3"
      ],
      "metadata": {
        "id": "HtdyDGTpWRoA"
      }
    },
    {
      "cell_type": "markdown",
      "source": [
        "Analiticamente:"
      ],
      "metadata": {
        "id": "7-Bs2vEhWVfe"
      }
    },
    {
      "cell_type": "markdown",
      "source": [
        "Simulación:"
      ],
      "metadata": {
        "id": "aLWigyWCWX4e"
      }
    },
    {
      "cell_type": "markdown",
      "source": [
        "Primera política"
      ],
      "metadata": {
        "id": "bJEhU-EEWYDF"
      }
    },
    {
      "cell_type": "markdown",
      "source": [
        "**PASO 1** Defina las variables que intervienen en el modelo."
      ],
      "metadata": {
        "id": "Hvr3xMhrWYLX"
      }
    },
    {
      "cell_type": "markdown",
      "source": [
        "Tiempo entre averías"
      ],
      "metadata": {
        "id": "Z5vXUQ44WYSc"
      }
    },
    {
      "cell_type": "markdown",
      "source": [
        "**PASO 2** Formule la distribución de probabilidad de cada variable"
      ],
      "metadata": {
        "id": "w2Tq5NqAWYdk"
      }
    },
    {
      "cell_type": "markdown",
      "source": [
        "|HORAS ENTRE AVERÍAS|20|30|40|50|60|70|80|\n",
        "|------------------------------------------------|--|--|--|--|--|--|--|\n",
        "|**PROBABILIDAD**|0.05|0.15|0.15|0.20|0.20|0.15|0.10|"
      ],
      "metadata": {
        "id": "0iwklGE-WYpH"
      }
    },
    {
      "cell_type": "markdown",
      "source": [
        "**PASO 3** Enumere la distribución acumulada de probabilidad de cada variable."
      ],
      "metadata": {
        "id": "DC8qmvJrWsrb"
      }
    },
    {
      "cell_type": "markdown",
      "source": [
        "|**HORAS ENTRE AVERÍAS**|20|30|40|50|60|70|80|\n",
        "|------------------------------------------------|--|--|--|--|--|--|--|\n",
        "|**PROBABILIDAD**|0.05|0.15|0.15|0.20|0.20|0.15|0.10|  \n",
        "|**F(x)**|0.05|0.20|0.35|0.55|0.75|0.90|1.00|"
      ],
      "metadata": {
        "id": "H7gnYMoRWs3d"
      }
    },
    {
      "cell_type": "markdown",
      "source": [
        "**PASO 4** Establezca el intervalo de números aleatorios correspondiente a cada valor de cada una de las variables."
      ],
      "metadata": {
        "id": "iKFcTUidWtCX"
      }
    },
    {
      "cell_type": "markdown",
      "source": [
        "|**HORAS ENTRE AVERÍAS**|20|30|40|50|60|70|80|\n",
        "|------------------------------------------------|--|--|--|--|--|--|--|\n",
        "|**PROBABILIDAD**|0.05|0.15|0.15|0.20|0.20|0.15|0.10|  \n",
        "|**F(x)**|0.05|0.20|0.35|0.55|0.75|0.90|1.00|  \n",
        "|**INTERVALO**|0 a 0.04|0.05 a 0.19|0.2 a 0.34|0.35 a 0.54|0.55 a 0.74|0.75 a 0.89|0.9 a 1|"
      ],
      "metadata": {
        "id": "wGHE6GEgWtMG"
      }
    },
    {
      "cell_type": "markdown",
      "source": [
        "**PASO 5** Genere números aleatorios."
      ],
      "metadata": {
        "id": "NXJ958-1WtWb"
      }
    },
    {
      "cell_type": "code",
      "execution_count": null,
      "metadata": {
        "id": "TIq3mDc3WSar"
      },
      "outputs": [],
      "source": [
        "import numpy as np\n",
        "import random #Librería para generar número aleatoríos\n",
        "import matplotlib.pyplot as plt #Librería para gráficar"
      ]
    },
    {
      "cell_type": "code",
      "source": [
        "def h_averias(): #En esta función vamos a obtener el número de horas entre averias dependiendo el número aleatorio que se obtenga\n",
        "    horas=0\n",
        "    a = random.random()\n",
        "    if 0.0 <= a < 0.049999:\n",
        "        horas = 20\n",
        "    elif 0.05 <= a < 0.199999:\n",
        "        horas = 30\n",
        "    elif 0.20 <= a < 0.349999:\n",
        "        horas = 40\n",
        "    elif 0.35 <= a < 0.549999:\n",
        "        horas = 50\n",
        "    elif 0.55 <= a <= 0.749999:\n",
        "        horas = 60\n",
        "    elif 0.75 <= a < 0.899999:\n",
        "        horas = 70\n",
        "    elif 0.90 <= a <= 1.00:\n",
        "        horas = 80\n",
        "    return horas"
      ],
      "metadata": {
        "id": "Dp1wsWHvWeM4"
      },
      "execution_count": null,
      "outputs": []
    },
    {
      "cell_type": "markdown",
      "source": [
        "**PASO 6** Diseñe el experimento"
      ],
      "metadata": {
        "id": "f9vnjfRMWtf8"
      }
    },
    {
      "cell_type": "code",
      "source": [
        "def coste(n): \n",
        "    coste_h=[]\n",
        "    h=0\n",
        "    for i in range(n):\n",
        "      h=h+h_averias() #Se van agregando las horas entre averias\n",
        "      coste_h.append(((i+1)*110)/(h)) #Se calcula el costo por hora de funcionamiento\n",
        "    return coste_h"
      ],
      "metadata": {
        "id": "CZGU0IFDXNDU"
      },
      "execution_count": null,
      "outputs": []
    },
    {
      "cell_type": "code",
      "source": [
        "x=coste(500)"
      ],
      "metadata": {
        "id": "Vo03ya40a8Y4"
      },
      "execution_count": null,
      "outputs": []
    },
    {
      "cell_type": "code",
      "source": [
        "plt.plot(x) #Se grafica el coste"
      ],
      "metadata": {
        "id": "QlrOUhR4bAqi"
      },
      "execution_count": null,
      "outputs": []
    },
    {
      "cell_type": "code",
      "source": [
        "np.mean(x) #Se obtiene la media"
      ],
      "metadata": {
        "colab": {
          "base_uri": "https://localhost:8080/"
        },
        "id": "1Th3cb1toSXa",
        "outputId": "320a009b-55c1-4335-90c2-365b15ad741f"
      },
      "execution_count": null,
      "outputs": [
        {
          "output_type": "execute_result",
          "data": {
            "text/plain": [
              "2.131177906151873"
            ]
          },
          "metadata": {},
          "execution_count": 44
        }
      ]
    },
    {
      "cell_type": "markdown",
      "source": [
        "**PASO 7** Repita el experimento n veces"
      ],
      "metadata": {
        "id": "rBjTEMYTXFUT"
      }
    },
    {
      "cell_type": "code",
      "source": [
        "def modelo(n): #Replicamos el modelo varias veces\n",
        "    lista=[]\n",
        "    for i in range(n):\n",
        "        s = coste(500)\n",
        "        lista.append(np.mean(s)) #Se obtiene la media de cada modelo\n",
        "    return lista"
      ],
      "metadata": {
        "id": "B4smAhteoX0_"
      },
      "execution_count": null,
      "outputs": []
    },
    {
      "cell_type": "code",
      "source": [
        "Y=modelo(40) "
      ],
      "metadata": {
        "id": "jySGppFooesJ"
      },
      "execution_count": null,
      "outputs": []
    },
    {
      "cell_type": "code",
      "source": [
        "print(np.mean(Y), np.std(Y))"
      ],
      "metadata": {
        "colab": {
          "base_uri": "https://localhost:8080/"
        },
        "id": "c71W6DfXogdu",
        "outputId": "11afc4f0-21d8-4be9-d14a-21e68f8bc6ba"
      },
      "execution_count": null,
      "outputs": [
        {
          "output_type": "stream",
          "name": "stdout",
          "text": [
            "2.1077429759932196 0.04091335711263441\n"
          ]
        }
      ]
    },
    {
      "cell_type": "code",
      "source": [
        "plt.hist(Y) #Gráficamos las medias de los diferentes modelos\n",
        "plt.show()"
      ],
      "metadata": {
        "id": "HKpExDSloifJ"
      },
      "execution_count": null,
      "outputs": []
    },
    {
      "cell_type": "markdown",
      "source": [
        "**Paso 8** Hallamos el intervalo de confianza."
      ],
      "metadata": {
        "id": "zz66aQL7XFd0"
      }
    },
    {
      "cell_type": "code",
      "source": [
        "print(\"El intervalo de confianza es: \",\n",
        "np.mean(Y)-(1.96)*((np.var(Y))/np.sqrt(40)), \"≤ m ≤\",\n",
        "np.mean(Y)+(1.96)*((np.var(Y))/np.sqrt(40)))"
      ],
      "metadata": {
        "colab": {
          "base_uri": "https://localhost:8080/"
        },
        "id": "xJoHlu1Sokly",
        "outputId": "0d3b91f7-ce28-4caa-92c6-3853b85c7154"
      },
      "execution_count": null,
      "outputs": [
        {
          "output_type": "stream",
          "name": "stdout",
          "text": [
            "El intervalo de confianza es:  2.1072242281441347 ≤ m ≤ 2.1082617238423045\n"
          ]
        }
      ]
    },
    {
      "cell_type": "markdown",
      "source": [
        "Vamos a simular la segunda política de remplazo"
      ],
      "metadata": {
        "id": "dKcw8ke_qogJ"
      }
    },
    {
      "cell_type": "markdown",
      "source": [
        "**PASO 6** Diseñe el experimento"
      ],
      "metadata": {
        "id": "-cLuc7rWX__I"
      }
    },
    {
      "cell_type": "code",
      "source": [
        "def coste2(n): \n",
        "    coste_h=[]\n",
        "    h=0\n",
        "    for i in range(n):\n",
        "      h=h+h_averias() #Se van agregando las horas entre averias\n",
        "      coste_h.append(((i+1)*250)/(h)) #Se calcula el costo por hora de funcionamiento\n",
        "    return coste_h"
      ],
      "metadata": {
        "id": "23gDW3chqNiL"
      },
      "execution_count": null,
      "outputs": []
    },
    {
      "cell_type": "code",
      "source": [
        "x2=coste2(500)"
      ],
      "metadata": {
        "id": "GYzwrFMrqQnk"
      },
      "execution_count": null,
      "outputs": []
    },
    {
      "cell_type": "code",
      "source": [
        "plt.plot(x2) #Se grafica el coste"
      ],
      "metadata": {
        "id": "rpsd8BWWqVYr"
      },
      "execution_count": null,
      "outputs": []
    },
    {
      "cell_type": "code",
      "source": [
        "np.mean(x2) #Se obtiene la media"
      ],
      "metadata": {
        "colab": {
          "base_uri": "https://localhost:8080/"
        },
        "id": "hwwKDQa3qYj5",
        "outputId": "8b9013c5-a8a2-4a41-d387-cbec751c897d"
      },
      "execution_count": null,
      "outputs": [
        {
          "output_type": "execute_result",
          "data": {
            "text/plain": [
              "4.83870235360884"
            ]
          },
          "metadata": {},
          "execution_count": 53
        }
      ]
    },
    {
      "cell_type": "markdown",
      "source": [
        "**PASO 7** Repita el experimento n veces"
      ],
      "metadata": {
        "id": "S0XbM3K4XyFX"
      }
    },
    {
      "cell_type": "code",
      "source": [
        "def modelo2(n): #Replicamos el modelo varias veces\n",
        "    lista=[]\n",
        "    for i in range(n):\n",
        "        s = coste2(500)\n",
        "        lista.append(np.mean(s)) #Se obtiene la media de cada modelo\n",
        "    return lista"
      ],
      "metadata": {
        "id": "6uQzOvsRqbFE"
      },
      "execution_count": null,
      "outputs": []
    },
    {
      "cell_type": "code",
      "source": [
        "Y2=modelo2(40) "
      ],
      "metadata": {
        "id": "yyZlF2Bkqdm7"
      },
      "execution_count": null,
      "outputs": []
    },
    {
      "cell_type": "code",
      "source": [
        "print(np.mean(Y2), np.std(Y2))"
      ],
      "metadata": {
        "colab": {
          "base_uri": "https://localhost:8080/"
        },
        "id": "WX92COW9qf7L",
        "outputId": "1d998fc7-7d6c-41c9-d0c8-dfc79b73a624"
      },
      "execution_count": null,
      "outputs": [
        {
          "output_type": "stream",
          "name": "stdout",
          "text": [
            "4.827207918040209 0.07631439417189698\n"
          ]
        }
      ]
    },
    {
      "cell_type": "code",
      "source": [
        "plt.hist(Y2) #Gráficamos las medias de los diferentes modelos\n",
        "plt.show()"
      ],
      "metadata": {
        "id": "7JZ9wOhBqijo"
      },
      "execution_count": null,
      "outputs": []
    },
    {
      "cell_type": "markdown",
      "source": [
        "**Paso 8** Hallamos el intervalo de confianza."
      ],
      "metadata": {
        "id": "fHqUjyhNXxrg"
      }
    },
    {
      "cell_type": "code",
      "source": [
        "print(\"El intervalo de confianza es: \",\n",
        "np.mean(Y2)-(1.96)*((np.var(Y2))/np.sqrt(40)), \"≤ m ≤\",\n",
        "np.mean(Y2)+(1.96)*((np.var(Y2))/np.sqrt(40)))"
      ],
      "metadata": {
        "colab": {
          "base_uri": "https://localhost:8080/"
        },
        "id": "ikdFhx6DqlbA",
        "outputId": "3db59a94-62ee-42e7-de2d-e6173ed8f328"
      },
      "execution_count": null,
      "outputs": [
        {
          "output_type": "stream",
          "name": "stdout",
          "text": [
            "El intervalo de confianza es:  4.825403076835227 ≤ m ≤ 4.829012759245191\n"
          ]
        }
      ]
    }
  ]
}